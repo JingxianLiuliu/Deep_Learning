{
 "cells": [
  {
   "cell_type": "markdown",
   "metadata": {
    "id": "vGbT1dgk2h0D"
   },
   "source": [
    "# Stock Prediction RNN \n",
    "\n",
    "In this project, I perform a time series prediction using a Recurrent Neural Network regressor. For this example, I will predict Apple's stock price 7 days in advance.\n",
    "\n",
    "The particular network architecture I will employ for my RNN is a  [Long Term Short Memory (LTSM)](https://en.wikipedia.org/wiki/Long_short-term_memory), which helps significantly avoid technical problems with optimization of RNNs."
   ]
  },
  {
   "cell_type": "markdown",
   "metadata": {
    "id": "vwPba0Jg2bSX"
   },
   "source": [
    "# Pytorch LSTM Stock Predictor\n",
    "\n",
    "This is a Pytorch version of the original Keras LSTM Stock Predictor provided by [Super DataScience](https://www.superdatascience.com/deep-learning/), and also available elsewhere in this repo as a notebook."
   ]
  },
  {
   "cell_type": "markdown",
   "metadata": {
    "id": "boG82OJt2n4g"
   },
   "source": [
    "## Step 1: Loading the data\n",
    "\n",
    "First let's load in our time series - a history of around 140 days of Apple's stock price. Then we need to perform a number of pre-processing steps to prepare it for use with an RNN model.  First off, it is good practice to normalize time series - by normalizing its range.  This helps us avoid serious numerical issues associated how common activation functions (like tanh) transform very large (positive or negative) numbers, as well as helping us to avoid related issues when computing derivatives.\n",
    "\n",
    "Here we normalize the series to lie in the range [0,1] [using this scikit function](http://scikit-learn.org/stable/modules/generated/sklearn.preprocessing.MinMaxScaler.html)."
   ]
  },
  {
   "cell_type": "code",
   "execution_count": 1,
   "metadata": {
    "colab": {
     "base_uri": "https://localhost:8080/"
    },
    "executionInfo": {
     "elapsed": 866,
     "status": "ok",
     "timestamp": 1616124300778,
     "user": {
      "displayName": "jingxian liu",
      "photoUrl": "",
      "userId": "15032525398197836374"
     },
     "user_tz": 300
    },
    "id": "6k-jrLoP20Fm",
    "outputId": "52801410-a2c2-4a46-8daf-a82c27fd873a"
   },
   "outputs": [
    {
     "name": "stdout",
     "output_type": "stream",
     "text": [
      "--2021-03-19 03:24:59--  https://raw.githubusercontent.com/tonylaioffer/stock-prediction-lstm-using-keras/master/data/sandp500/all_stocks_5yr.csv\n",
      "Resolving raw.githubusercontent.com (raw.githubusercontent.com)... 185.199.109.133, 185.199.110.133, 185.199.108.133, ...\n",
      "Connecting to raw.githubusercontent.com (raw.githubusercontent.com)|185.199.109.133|:443... connected.\n",
      "HTTP request sent, awaiting response... 200 OK\n",
      "Length: 29580549 (28M) [text/plain]\n",
      "Saving to: ‘all_stocks_5yr.csv’\n",
      "\n",
      "all_stocks_5yr.csv  100%[===================>]  28.21M  --.-KB/s    in 0.1s    \n",
      "\n",
      "2021-03-19 03:25:00 (240 MB/s) - ‘all_stocks_5yr.csv’ saved [29580549/29580549]\n",
      "\n"
     ]
    }
   ],
   "source": [
    "# download the data\n",
    "!wget https://raw.githubusercontent.com/tonylaioffer/stock-prediction-lstm-using-keras/master/data/sandp500/all_stocks_5yr.csv"
   ]
  },
  {
   "cell_type": "code",
   "execution_count": 2,
   "metadata": {
    "colab": {
     "base_uri": "https://localhost:8080/"
    },
    "executionInfo": {
     "elapsed": 955,
     "status": "ok",
     "timestamp": 1616124300875,
     "user": {
      "displayName": "jingxian liu",
      "photoUrl": "",
      "userId": "15032525398197836374"
     },
     "user_tz": 300
    },
    "id": "3-8wHDYS28-m",
    "outputId": "f3c981b2-2c91-456f-eba3-bf73af0de65a"
   },
   "outputs": [
    {
     "name": "stdout",
     "output_type": "stream",
     "text": [
      "all_stocks_5yr.csv  sample_data\n"
     ]
    }
   ],
   "source": [
    "!ls ."
   ]
  },
  {
   "cell_type": "code",
   "execution_count": 3,
   "metadata": {
    "executionInfo": {
     "elapsed": 4538,
     "status": "ok",
     "timestamp": 1616124304460,
     "user": {
      "displayName": "jingxian liu",
      "photoUrl": "",
      "userId": "15032525398197836374"
     },
     "user_tz": 300
    },
    "id": "lC_2yxKR2bSe"
   },
   "outputs": [],
   "source": [
    "import numpy as np\n",
    "import pandas as pd\n",
    "import matplotlib.pyplot as plt\n",
    "\n",
    "import torch.nn as nn\n",
    "import torch\n",
    "from torch.autograd import Variable\n",
    "from torch.utils.data import Dataset, DataLoader"
   ]
  },
  {
   "cell_type": "code",
   "execution_count": 4,
   "metadata": {
    "executionInfo": {
     "elapsed": 4902,
     "status": "ok",
     "timestamp": 1616124304826,
     "user": {
      "displayName": "jingxian liu",
      "photoUrl": "",
      "userId": "15032525398197836374"
     },
     "user_tz": 300
    },
    "id": "BvFrixdV2bSw"
   },
   "outputs": [],
   "source": [
    "# Importing the training set\n",
    "dataset = data = pd.read_csv('./all_stocks_5yr.csv')\n",
    "dataset_cl = dataset[dataset['Name']=='SWKS'].close.values\n",
    "\n",
    "# dataset_train = pd.read_csv('Google_Stock_Price_Train.csv')\n",
    "# training_set = dataset_train.iloc[:, 1:2].values"
   ]
  },
  {
   "cell_type": "code",
   "execution_count": 5,
   "metadata": {
    "executionInfo": {
     "elapsed": 5403,
     "status": "ok",
     "timestamp": 1616124305329,
     "user": {
      "displayName": "jingxian liu",
      "photoUrl": "",
      "userId": "15032525398197836374"
     },
     "user_tz": 300
    },
    "id": "XFvN25Yj3w9r"
   },
   "outputs": [],
   "source": [
    "# Feature Scaling\n",
    "from sklearn.preprocessing import MinMaxScaler\n",
    "\n",
    "sc = MinMaxScaler(feature_range = (0, 1))\n",
    "\n",
    "# scale the data\n",
    "dataset_cl = dataset_cl.reshape(dataset_cl.shape[0], 1)\n",
    "dataset_cl = sc.fit_transform(dataset_cl)"
   ]
  },
  {
   "cell_type": "markdown",
   "metadata": {
    "id": "UURKEshg3g0G"
   },
   "source": [
    "## Step 2:  Cutting our time series into sequences\n",
    "\n",
    "Remember, our time series is a sequence of numbers that we can represent in general mathematically as \n",
    "\n",
    "$$s_{0},s_{1},s_{2},...,s_{P}$$\n",
    "\n",
    "where $s_{p}$ is the numerical value of the time series at time period $p$ and where $P$ is the total length of the series.  In order to apply our RNN we treat the time series prediction problem as a regression problem, and so need to use a sliding window to construct a set of associated input/output pairs to regress on.  This process is animated in the gif below.\n",
    "\n",
    "<img src=\"https://github.com/tonylaioffer/stock-prediction-lstm-using-keras/raw/master/images/timeseries_windowing_training.gif\" width=600 height=288/>\n",
    "\n",
    "For example - using a window of size T = 5 (as illustrated in the gif above) we produce a set of input/output pairs like the one shown in the table below\n",
    "\n",
    "$$\\begin{array}{c|c}\n",
    "\\text{Input} & \\text{Output}\\\\\n",
    "\\hline \\color{CornflowerBlue} {\\langle s_{1},s_{2},s_{3},s_{4},s_{5}\\rangle} & \\color{Goldenrod}{ s_{6}} \\\\\n",
    "\\ \\color{CornflowerBlue} {\\langle s_{2},s_{3},s_{4},s_{5},s_{6} \\rangle } & \\color{Goldenrod} {s_{7} } \\\\\n",
    "\\color{CornflowerBlue}  {\\vdots} & \\color{Goldenrod} {\\vdots}\\\\\n",
    "\\color{CornflowerBlue} { \\langle s_{P-5},s_{P-4},s_{P-3},s_{P-2},s_{P-1} \\rangle } & \\color{Goldenrod} {s_{P}}\n",
    "\\end{array}$$\n",
    "\n",
    "Notice here that each input is a sequence (or vector) of length 4 (and in general has length equal to the window size T) while each corresponding output is a scalar value.  Notice also how given a time series of length P and window size T = 5 as shown above, we created P - 5  input/output pairs.  More generally, for a window size T we create P - T such pairs.\n",
    "\n",
    "Now let's window the input time series as described above!  "
   ]
  },
  {
   "cell_type": "code",
   "execution_count": 6,
   "metadata": {
    "executionInfo": {
     "elapsed": 5403,
     "status": "ok",
     "timestamp": 1616124305330,
     "user": {
      "displayName": "jingxian liu",
      "photoUrl": "",
      "userId": "15032525398197836374"
     },
     "user_tz": 300
    },
    "id": "pvBLqRvm4L6k"
   },
   "outputs": [],
   "source": [
    "#Create a function to process the data into 7 day look back slices\n",
    "def processData(data, lb):\n",
    "    X, Y = [], []\n",
    "    for i in range(len(data) - lb - 1):\n",
    "        X.append(data[i: (i + lb), 0])\n",
    "        Y.append(data[(i + lb), 0])\n",
    "    return np.array(X), np.array(Y)\n",
    "X, y = processData(dataset_cl, 7)\n"
   ]
  },
  {
   "cell_type": "markdown",
   "metadata": {
    "id": "yHsQGQ_V42G0"
   },
   "source": [
    "## Step 3: Split training and testing sets\n",
    "\n",
    "In order to perform proper testing on our dataset we will lop off the last 1/3 of it for validation (or testing).  \n",
    "\n",
    "Note how here we are **not** splitting the dataset *randomly* as one typically would do when validating a regression model.  This is because our input/output pairs *are related temporally*.   We don't want to validate our model by training on a random subset of the series and then testing on another random subset, as this simulates the scenario that we receive new points *within the timeframe of our training set*.  \n",
    "\n",
    "We want to train on one solid chunk of the series (in our case, the first full 2/3 of it), and validate on a later chunk (the last 1/3) as this simulates how we would predict *future* values of a time series."
   ]
  },
  {
   "cell_type": "code",
   "execution_count": 7,
   "metadata": {
    "colab": {
     "base_uri": "https://localhost:8080/"
    },
    "executionInfo": {
     "elapsed": 5398,
     "status": "ok",
     "timestamp": 1616124305331,
     "user": {
      "displayName": "jingxian liu",
      "photoUrl": "",
      "userId": "15032525398197836374"
     },
     "user_tz": 300
    },
    "id": "syFXDlpn45xA",
    "outputId": "13a647b6-67de-4d42-b36d-ed0eb215fcdc"
   },
   "outputs": [
    {
     "name": "stdout",
     "output_type": "stream",
     "text": [
      "1000\n",
      "251\n",
      "1000\n",
      "251\n"
     ]
    }
   ],
   "source": [
    "X_train, X_test = X[:int(X.shape[0]*0.80)],X[int(X.shape[0]*0.80):]\n",
    "y_train, y_test = y[:int(y.shape[0]*0.80)],y[int(y.shape[0]*0.80):]\n",
    "print(X_train.shape[0])\n",
    "print(X_test.shape[0])\n",
    "print(y_train.shape[0])\n",
    "print(y_test.shape[0])\n",
    "\n",
    "# reshaping\n",
    "X_train = np.reshape(X_train, (X_train.shape[0], 1, X_train.shape[1]))\n",
    "X_test = np.reshape(X_test, (X_test.shape[0], 1, X_test.shape[1]))"
   ]
  },
  {
   "cell_type": "code",
   "execution_count": 8,
   "metadata": {
    "executionInfo": {
     "elapsed": 5397,
     "status": "ok",
     "timestamp": 1616124305331,
     "user": {
      "displayName": "jingxian liu",
      "photoUrl": "",
      "userId": "15032525398197836374"
     },
     "user_tz": 300
    },
    "id": "oPfVnOcm2bTF"
   },
   "outputs": [],
   "source": [
    "# Reshaping\n",
    "# X_train = np.reshape(X_train, (X_train.shape[0], 1, X_train.shape[1]))"
   ]
  },
  {
   "cell_type": "markdown",
   "metadata": {
    "id": "GMXggue15R41"
   },
   "source": [
    "## Step 4:  Build and run an RNN regression model\n",
    "\n",
    "Having created input/output pairs out of our time series and cut this into training/testing sets, we can now begin setting up our RNN.  We use Keras to quickly build a two hidden layer RNN of the following specifications\n",
    "\n",
    "- layer 1 uses an LSTM module with 5 hidden units (note here the input_shape = (window_size,1))\n",
    "- layer 2 uses a fully connected module with one unit\n",
    "- the 'mean_squared_error' loss should be used"
   ]
  },
  {
   "cell_type": "code",
   "execution_count": 9,
   "metadata": {
    "executionInfo": {
     "elapsed": 5396,
     "status": "ok",
     "timestamp": 1616124305332,
     "user": {
      "displayName": "jingxian liu",
      "photoUrl": "",
      "userId": "15032525398197836374"
     },
     "user_tz": 300
    },
    "id": "HNWryPPg2bTM"
   },
   "outputs": [],
   "source": [
    "class RNN(nn.Module):\n",
    "    def __init__(self, i_size, h_size, n_layers, o_size, dropout=0.1, bidirectional=True):\n",
    "        super(RNN, self).__init__()\n",
    "        self.num_directions = bidirectional+1\n",
    "        self.rnn = nn.LSTM(\n",
    "            input_size=i_size,\n",
    "            hidden_size=h_size,\n",
    "            num_layers=n_layers,\n",
    "            dropout=dropout,\n",
    "            bidirectional=bidirectional\n",
    "        )\n",
    "        self.out = nn.Linear(h_size, o_size)\n",
    "\n",
    "    def forward(self, x, h_state):\n",
    "        r_out, hidden_state = self.rnn(x, h_state)\n",
    "        \n",
    "        hidden_size = hidden_state[-1].size(-1)\n",
    "        r_out = r_out.view(-1, self.num_directions, hidden_size)\n",
    "        outs = self.out(r_out)\n",
    "        \n",
    "        return outs, hidden_state"
   ]
  },
  {
   "cell_type": "code",
   "execution_count": 10,
   "metadata": {
    "executionInfo": {
     "elapsed": 16045,
     "status": "ok",
     "timestamp": 1616124315982,
     "user": {
      "displayName": "jingxian liu",
      "photoUrl": "",
      "userId": "15032525398197836374"
     },
     "user_tz": 300
    },
    "id": "SwwPpVsK2bTQ"
   },
   "outputs": [],
   "source": [
    "# Globals\n",
    "\n",
    "INPUT_SIZE = 7\n",
    "HIDDEN_SIZE = 64\n",
    "NUM_LAYERS = 3\n",
    "OUTPUT_SIZE = 1\n",
    "BATCH_SIZE = 128\n",
    "# Hyper parameters\n",
    "\n",
    "learning_rate = 0.001\n",
    "num_epochs = 300\n",
    "\n",
    "rnn = RNN(INPUT_SIZE, HIDDEN_SIZE, NUM_LAYERS, OUTPUT_SIZE,bidirectional=False)\n",
    "rnn.cuda()\n",
    "\n",
    "optimiser = torch.optim.Adam(rnn.parameters(), lr=learning_rate)\n",
    "criterion = nn.MSELoss()\n",
    "\n",
    "hidden_state = None"
   ]
  },
  {
   "cell_type": "code",
   "execution_count": 11,
   "metadata": {
    "colab": {
     "base_uri": "https://localhost:8080/"
    },
    "executionInfo": {
     "elapsed": 16044,
     "status": "ok",
     "timestamp": 1616124315986,
     "user": {
      "displayName": "jingxian liu",
      "photoUrl": "",
      "userId": "15032525398197836374"
     },
     "user_tz": 300
    },
    "id": "BiQaghDCtNdg",
    "outputId": "a498911a-b96e-4cec-b307-53a3fc003ff5"
   },
   "outputs": [
    {
     "data": {
      "text/plain": [
       "RNN(\n",
       "  (rnn): LSTM(7, 64, num_layers=3, dropout=0.1)\n",
       "  (out): Linear(in_features=64, out_features=1, bias=True)\n",
       ")"
      ]
     },
     "execution_count": 11,
     "metadata": {
      "tags": []
     },
     "output_type": "execute_result"
    }
   ],
   "source": [
    "rnn"
   ]
  },
  {
   "cell_type": "code",
   "execution_count": 12,
   "metadata": {
    "colab": {
     "base_uri": "https://localhost:8080/",
     "height": 86
    },
    "executionInfo": {
     "elapsed": 16042,
     "status": "ok",
     "timestamp": 1616124315988,
     "user": {
      "displayName": "jingxian liu",
      "photoUrl": "",
      "userId": "15032525398197836374"
     },
     "user_tz": 300
    },
    "id": "olY5dc_sQ345",
    "outputId": "5dcccbe1-bbfc-40b9-ad85-efcc65eb17a2"
   },
   "outputs": [
    {
     "data": {
      "application/vnd.google.colaboratory.intrinsic+json": {
       "type": "string"
      },
      "text/plain": [
       "'\\nclass StockDataset(Dataset):\\n    \\n    def __init__(self, X_dataset, Y_dataset):\\n        \\n        self.X_dataset = torch.from_numpy(X_dataset)\\n        self.Y_dataset = torch.from_numpy(Y_dataset)\\n        \\n    def __len__(self):\\n        return np.shape(self.Y_dataset)[0]\\n\\n    def __getitem__(self, idx):\\n        \\n        sample = {\\'Sequence\\': self.X_dataset[:,idx,:], \"Target\": self.Y_dataset[idx]}\\n      \\n\\n        return sample\\n'"
      ]
     },
     "execution_count": 12,
     "metadata": {
      "tags": []
     },
     "output_type": "execute_result"
    }
   ],
   "source": [
    "\"\"\"\n",
    "class StockDataset(Dataset):\n",
    "    \n",
    "    def __init__(self, X_dataset, Y_dataset):\n",
    "        \n",
    "        self.X_dataset = torch.from_numpy(X_dataset)\n",
    "        self.Y_dataset = torch.from_numpy(Y_dataset)\n",
    "        \n",
    "    def __len__(self):\n",
    "        return np.shape(self.Y_dataset)[0]\n",
    "\n",
    "    def __getitem__(self, idx):\n",
    "        \n",
    "        sample = {'Sequence': self.X_dataset[:,idx,:], \"Target\": self.Y_dataset[idx]}\n",
    "      \n",
    "\n",
    "        return sample\n",
    "\"\"\""
   ]
  },
  {
   "cell_type": "code",
   "execution_count": 13,
   "metadata": {
    "executionInfo": {
     "elapsed": 16040,
     "status": "ok",
     "timestamp": 1616124315989,
     "user": {
      "displayName": "jingxian liu",
      "photoUrl": "",
      "userId": "15032525398197836374"
     },
     "user_tz": 300
    },
    "id": "de3JU38uRp-S"
   },
   "outputs": [],
   "source": [
    "# Train_ds=StockDataset(X_train, y_train)"
   ]
  },
  {
   "cell_type": "code",
   "execution_count": 14,
   "metadata": {
    "colab": {
     "base_uri": "https://localhost:8080/"
    },
    "executionInfo": {
     "elapsed": 39702,
     "status": "ok",
     "timestamp": 1616124339656,
     "user": {
      "displayName": "jingxian liu",
      "photoUrl": "",
      "userId": "15032525398197836374"
     },
     "user_tz": 300
    },
    "id": "QlRhF5JP2bTX",
    "outputId": "d5bfe72d-4229-47b2-a19a-e683dd72f481"
   },
   "outputs": [
    {
     "name": "stdout",
     "output_type": "stream",
     "text": [
      "epoch 0, loss 0.31944987177848816, eval loss 0.8214848637580872\n",
      "epoch 1, loss 0.2878745198249817\n",
      "epoch 2, loss 0.2579861283302307\n",
      "epoch 3, loss 0.2285611927509308\n",
      "epoch 4, loss 0.19991157948970795\n",
      "epoch 5, loss 0.17109867930412292\n",
      "epoch 6, loss 0.14197058975696564\n",
      "epoch 7, loss 0.11247654259204865\n",
      "epoch 8, loss 0.08406340330839157\n",
      "epoch 9, loss 0.0590209998190403\n",
      "epoch 10, loss 0.042012691497802734\n",
      "epoch 11, loss 0.04543043673038483\n",
      "epoch 12, loss 0.06628599017858505\n",
      "epoch 13, loss 0.07128697633743286\n",
      "epoch 14, loss 0.06241859123110771\n",
      "epoch 15, loss 0.04836946725845337\n",
      "epoch 16, loss 0.03844183683395386\n",
      "epoch 17, loss 0.03403725475072861\n",
      "epoch 18, loss 0.03417227044701576\n",
      "epoch 19, loss 0.035023462027311325\n",
      "epoch 20, loss 0.03602230176329613, eval loss 0.12914717197418213\n",
      "epoch 21, loss 0.03630504757165909\n",
      "epoch 22, loss 0.034596338868141174\n",
      "epoch 23, loss 0.031120523810386658\n",
      "epoch 24, loss 0.026626894250512123\n",
      "epoch 25, loss 0.02060658298432827\n",
      "epoch 26, loss 0.01572900451719761\n",
      "epoch 27, loss 0.012182431295514107\n",
      "epoch 28, loss 0.011853119358420372\n",
      "epoch 29, loss 0.013819228857755661\n",
      "epoch 30, loss 0.015620157122612\n",
      "epoch 31, loss 0.012815993279218674\n",
      "epoch 32, loss 0.008568188175559044\n",
      "epoch 33, loss 0.005194228608161211\n",
      "epoch 34, loss 0.00470744539052248\n",
      "epoch 35, loss 0.005812627263367176\n",
      "epoch 36, loss 0.007043835241347551\n",
      "epoch 37, loss 0.007148100063204765\n",
      "epoch 38, loss 0.006367001216858625\n",
      "epoch 39, loss 0.004052477888762951\n",
      "epoch 40, loss 0.0028318234253674746, eval loss 0.009412987157702446\n",
      "epoch 41, loss 0.002863871632143855\n",
      "epoch 42, loss 0.004233771003782749\n",
      "epoch 43, loss 0.0052260286174714565\n",
      "epoch 44, loss 0.004718216136097908\n",
      "epoch 45, loss 0.003800430567935109\n",
      "epoch 46, loss 0.0029505128040909767\n",
      "epoch 47, loss 0.0030036636162549257\n",
      "epoch 48, loss 0.003506236243993044\n",
      "epoch 49, loss 0.004053187556564808\n",
      "epoch 50, loss 0.003912005573511124\n",
      "epoch 51, loss 0.0033535072579979897\n",
      "epoch 52, loss 0.002887758892029524\n",
      "epoch 53, loss 0.002429534448310733\n",
      "epoch 54, loss 0.0026201202999800444\n",
      "epoch 55, loss 0.003001229139044881\n",
      "epoch 56, loss 0.003185103414580226\n",
      "epoch 57, loss 0.002981815254315734\n",
      "epoch 58, loss 0.002607651287689805\n",
      "epoch 59, loss 0.0025083881337195635\n",
      "epoch 60, loss 0.0023722792975604534, eval loss 0.01519586332142353\n",
      "epoch 61, loss 0.0023788739927113056\n",
      "epoch 62, loss 0.002687169937416911\n",
      "epoch 63, loss 0.0025315633974969387\n",
      "epoch 64, loss 0.002514925319701433\n",
      "epoch 65, loss 0.002287737326696515\n",
      "epoch 66, loss 0.0024101901799440384\n",
      "epoch 67, loss 0.0024682413786649704\n",
      "epoch 68, loss 0.0024885537568479776\n",
      "epoch 69, loss 0.0025937510654330254\n",
      "epoch 70, loss 0.002429032465443015\n",
      "epoch 71, loss 0.0022380042355507612\n",
      "epoch 72, loss 0.0023146262392401695\n",
      "epoch 73, loss 0.002061669249087572\n",
      "epoch 74, loss 0.002074143383651972\n",
      "epoch 75, loss 0.0023145610466599464\n",
      "epoch 76, loss 0.0024621072225272655\n",
      "epoch 77, loss 0.0022902407217770815\n",
      "epoch 78, loss 0.002148154890164733\n",
      "epoch 79, loss 0.0020980502013117075\n",
      "epoch 80, loss 0.002071673283353448, eval loss 0.010332516394555569\n",
      "epoch 81, loss 0.002003212459385395\n",
      "epoch 82, loss 0.0021249395795166492\n",
      "epoch 83, loss 0.002158897928893566\n",
      "epoch 84, loss 0.002015385776758194\n",
      "epoch 85, loss 0.002151850378140807\n",
      "epoch 86, loss 0.00204203138127923\n",
      "epoch 87, loss 0.0019265292212367058\n",
      "epoch 88, loss 0.0020431987941265106\n",
      "epoch 89, loss 0.0021527986973524094\n",
      "epoch 90, loss 0.0018815530929714441\n",
      "epoch 91, loss 0.0018940812442451715\n",
      "epoch 92, loss 0.0021391918417066336\n",
      "epoch 93, loss 0.0018625890370458364\n",
      "epoch 94, loss 0.0019493938889354467\n",
      "epoch 95, loss 0.0018670987337827682\n",
      "epoch 96, loss 0.00207225838676095\n",
      "epoch 97, loss 0.0018346653087064624\n",
      "epoch 98, loss 0.0019410072127357125\n",
      "epoch 99, loss 0.0019920107442885637\n",
      "epoch 100, loss 0.0018596857553347945, eval loss 0.010725957341492176\n",
      "epoch 101, loss 0.0018374460050836205\n",
      "epoch 102, loss 0.0020502267871052027\n",
      "epoch 103, loss 0.001915039960294962\n",
      "epoch 104, loss 0.0019135299371555448\n",
      "epoch 105, loss 0.0018599348841235042\n",
      "epoch 106, loss 0.002030077623203397\n",
      "epoch 107, loss 0.0019260765984654427\n",
      "epoch 108, loss 0.0019354969263076782\n",
      "epoch 109, loss 0.001865678234025836\n",
      "epoch 110, loss 0.0018847676692530513\n",
      "epoch 111, loss 0.0018636065069586039\n",
      "epoch 112, loss 0.001809414359740913\n",
      "epoch 113, loss 0.0017391832079738379\n",
      "epoch 114, loss 0.0019256845116615295\n",
      "epoch 115, loss 0.0018894656095653772\n",
      "epoch 116, loss 0.00184087292291224\n",
      "epoch 117, loss 0.0017601847648620605\n",
      "epoch 118, loss 0.0019006130751222372\n",
      "epoch 119, loss 0.001824650913476944\n",
      "epoch 120, loss 0.0017642240272834897, eval loss 0.009412067010998726\n",
      "epoch 121, loss 0.0019039963372051716\n",
      "epoch 122, loss 0.0018152262782678008\n",
      "epoch 123, loss 0.0017194944666698575\n",
      "epoch 124, loss 0.0017712481785565615\n",
      "epoch 125, loss 0.0018964424962177873\n",
      "epoch 126, loss 0.0017987571191042662\n",
      "epoch 127, loss 0.0018617130117490888\n",
      "epoch 128, loss 0.0017832202138379216\n",
      "epoch 129, loss 0.0017189843347296119\n",
      "epoch 130, loss 0.0018629151163622737\n",
      "epoch 131, loss 0.00187601987272501\n",
      "epoch 132, loss 0.0019223648123443127\n",
      "epoch 133, loss 0.0016844765050336719\n",
      "epoch 134, loss 0.0017927737208083272\n",
      "epoch 135, loss 0.0017547586467117071\n",
      "epoch 136, loss 0.0018965039635077119\n",
      "epoch 137, loss 0.00169570988509804\n",
      "epoch 138, loss 0.001810832298360765\n",
      "epoch 139, loss 0.0017169603379443288\n",
      "epoch 140, loss 0.0017671436071395874, eval loss 0.009142458438873291\n",
      "epoch 141, loss 0.0017091818153858185\n",
      "epoch 142, loss 0.0018043175805360079\n",
      "epoch 143, loss 0.0017765247030183673\n",
      "epoch 144, loss 0.0017498575616627932\n",
      "epoch 145, loss 0.0017394389724358916\n",
      "epoch 146, loss 0.0016501563368365169\n",
      "epoch 147, loss 0.0018220487982034683\n",
      "epoch 148, loss 0.0018079569563269615\n",
      "epoch 149, loss 0.0016680904664099216\n",
      "epoch 150, loss 0.0018427142640575767\n",
      "epoch 151, loss 0.001557686598971486\n",
      "epoch 152, loss 0.001840417506173253\n",
      "epoch 153, loss 0.0017487077275291085\n",
      "epoch 154, loss 0.0016729553462937474\n",
      "epoch 155, loss 0.0017397484043613076\n",
      "epoch 156, loss 0.0018037928966805339\n",
      "epoch 157, loss 0.0016748951748013496\n",
      "epoch 158, loss 0.0017388584092259407\n",
      "epoch 159, loss 0.001620651688426733\n",
      "epoch 160, loss 0.0016537412302568555, eval loss 0.008470618166029453\n",
      "epoch 161, loss 0.0016705425223335624\n",
      "epoch 162, loss 0.0016750392969697714\n",
      "epoch 163, loss 0.001645736745558679\n",
      "epoch 164, loss 0.0016417591832578182\n",
      "epoch 165, loss 0.0017175562679767609\n",
      "epoch 166, loss 0.0017852631863206625\n",
      "epoch 167, loss 0.0015837533865123987\n",
      "epoch 168, loss 0.00160843541380018\n",
      "epoch 169, loss 0.001874457928352058\n",
      "epoch 170, loss 0.0017553113866597414\n",
      "epoch 171, loss 0.0016450898256152868\n",
      "epoch 172, loss 0.001660503912717104\n",
      "epoch 173, loss 0.0016605014679953456\n",
      "epoch 174, loss 0.0015829189214855433\n",
      "epoch 175, loss 0.0015872454969212413\n",
      "epoch 176, loss 0.0015274930046871305\n",
      "epoch 177, loss 0.0014617840060964227\n",
      "epoch 178, loss 0.001556368195451796\n",
      "epoch 179, loss 0.0015194043517112732\n",
      "epoch 180, loss 0.001656650099903345, eval loss 0.007888343185186386\n",
      "epoch 181, loss 0.0015365920262411237\n",
      "epoch 182, loss 0.0016803829930722713\n",
      "epoch 183, loss 0.0015857999678701162\n",
      "epoch 184, loss 0.0015199905028566718\n",
      "epoch 185, loss 0.0016455808654427528\n",
      "epoch 186, loss 0.0016875126166269183\n",
      "epoch 187, loss 0.0016903964569792151\n",
      "epoch 188, loss 0.0015066515188664198\n",
      "epoch 189, loss 0.001617120229639113\n",
      "epoch 190, loss 0.001561991753987968\n",
      "epoch 191, loss 0.001543527003377676\n",
      "epoch 192, loss 0.0016710928175598383\n",
      "epoch 193, loss 0.0015285230474546552\n",
      "epoch 194, loss 0.0015107012586668134\n",
      "epoch 195, loss 0.0017217949498444796\n",
      "epoch 196, loss 0.0016341014998033643\n",
      "epoch 197, loss 0.0014831122243776917\n",
      "epoch 198, loss 0.001541967154480517\n",
      "epoch 199, loss 0.0016051172278821468\n",
      "epoch 200, loss 0.0015577943995594978, eval loss 0.007584234233945608\n",
      "epoch 201, loss 0.0015860290732234716\n",
      "epoch 202, loss 0.0014730483526363969\n",
      "epoch 203, loss 0.001569122658111155\n",
      "epoch 204, loss 0.001571325701661408\n",
      "epoch 205, loss 0.0015305111883208156\n",
      "epoch 206, loss 0.0015624630032107234\n",
      "epoch 207, loss 0.0014852887252345681\n",
      "epoch 208, loss 0.001527008367702365\n",
      "epoch 209, loss 0.0016878403257578611\n",
      "epoch 210, loss 0.0015032092342153192\n",
      "epoch 211, loss 0.0016601631650701165\n",
      "epoch 212, loss 0.001517726224847138\n",
      "epoch 213, loss 0.0016066201496869326\n",
      "epoch 214, loss 0.0015248663257807493\n",
      "epoch 215, loss 0.001641652313992381\n",
      "epoch 216, loss 0.0016410188982263207\n",
      "epoch 217, loss 0.001552447909489274\n",
      "epoch 218, loss 0.0016404176130890846\n",
      "epoch 219, loss 0.0014820812502875924\n",
      "epoch 220, loss 0.0016410175012424588, eval loss 0.007662483956664801\n",
      "epoch 221, loss 0.0014724698849022388\n",
      "epoch 222, loss 0.0015249609714373946\n",
      "epoch 223, loss 0.0014676660066470504\n",
      "epoch 224, loss 0.0014892899198457599\n",
      "epoch 225, loss 0.0014848714927211404\n",
      "epoch 226, loss 0.0015157368034124374\n",
      "epoch 227, loss 0.0014701600885018706\n",
      "epoch 228, loss 0.0014356864849105477\n",
      "epoch 229, loss 0.0014399519423022866\n",
      "epoch 230, loss 0.001591106178238988\n",
      "epoch 231, loss 0.0014471982140094042\n",
      "epoch 232, loss 0.001427121227607131\n",
      "epoch 233, loss 0.0015309734735637903\n",
      "epoch 234, loss 0.0015928500797599554\n",
      "epoch 235, loss 0.0015159416943788528\n",
      "epoch 236, loss 0.001502606668509543\n",
      "epoch 237, loss 0.0014640495646744967\n",
      "epoch 238, loss 0.00152894901111722\n",
      "epoch 239, loss 0.0015592087293043733\n",
      "epoch 240, loss 0.0013734987005591393, eval loss 0.007242824416607618\n",
      "epoch 241, loss 0.0014362209476530552\n",
      "epoch 242, loss 0.001406323630362749\n",
      "epoch 243, loss 0.001430772477760911\n",
      "epoch 244, loss 0.0016208237502723932\n",
      "epoch 245, loss 0.001390807214193046\n",
      "epoch 246, loss 0.00148005539085716\n",
      "epoch 247, loss 0.001394285704009235\n",
      "epoch 248, loss 0.0014936864608898759\n",
      "epoch 249, loss 0.0015332514885812998\n",
      "epoch 250, loss 0.0014474795898422599\n",
      "epoch 251, loss 0.0013590550515800714\n",
      "epoch 252, loss 0.001372587401419878\n",
      "epoch 253, loss 0.0014663698384538293\n",
      "epoch 254, loss 0.0014709940878674388\n",
      "epoch 255, loss 0.001555800554342568\n",
      "epoch 256, loss 0.0015080634038895369\n",
      "epoch 257, loss 0.0013366865459829569\n",
      "epoch 258, loss 0.0013564201071858406\n",
      "epoch 259, loss 0.0013638453092426062\n",
      "epoch 260, loss 0.001443332526832819, eval loss 0.007089362014085054\n",
      "epoch 261, loss 0.001387059222906828\n",
      "epoch 262, loss 0.0014721459010615945\n",
      "epoch 263, loss 0.0014087057206779718\n",
      "epoch 264, loss 0.0013967000413686037\n",
      "epoch 265, loss 0.0016073216684162617\n",
      "epoch 266, loss 0.0015481222653761506\n",
      "epoch 267, loss 0.0014405737165361643\n",
      "epoch 268, loss 0.0013897741446271539\n",
      "epoch 269, loss 0.001497182878665626\n",
      "epoch 270, loss 0.0013764055911451578\n",
      "epoch 271, loss 0.0015185275115072727\n",
      "epoch 272, loss 0.0013393583940342069\n",
      "epoch 273, loss 0.0013998269569128752\n",
      "epoch 274, loss 0.0014214030234143138\n",
      "epoch 275, loss 0.0014026985736563802\n",
      "epoch 276, loss 0.0013608348090201616\n",
      "epoch 277, loss 0.0014401526423171163\n",
      "epoch 278, loss 0.0014036999782547355\n",
      "epoch 279, loss 0.0014028027653694153\n",
      "epoch 280, loss 0.0014622127637267113, eval loss 0.006846285425126553\n",
      "epoch 281, loss 0.001513811992481351\n",
      "epoch 282, loss 0.0013753650709986687\n",
      "epoch 283, loss 0.0015495390398427844\n",
      "epoch 284, loss 0.001375691732391715\n",
      "epoch 285, loss 0.001410066382959485\n",
      "epoch 286, loss 0.0015487933997064829\n",
      "epoch 287, loss 0.001392817823216319\n",
      "epoch 288, loss 0.0014337149914354086\n",
      "epoch 289, loss 0.001340588671155274\n",
      "epoch 290, loss 0.001332622836343944\n",
      "epoch 291, loss 0.0013357630232349038\n",
      "epoch 292, loss 0.0015859435079619288\n",
      "epoch 293, loss 0.0014250691747292876\n",
      "epoch 294, loss 0.0013655805960297585\n",
      "epoch 295, loss 0.0013811435783281922\n",
      "epoch 296, loss 0.001339736278168857\n",
      "epoch 297, loss 0.0013274120865389705\n",
      "epoch 298, loss 0.0013839836465194821\n",
      "epoch 299, loss 0.0013254841323941946\n"
     ]
    }
   ],
   "source": [
    "history = []\n",
    "X_test_cuda = torch.tensor(X_test).float().cuda()\n",
    "y_test_cuda = torch.tensor(y_test).float().cuda()\n",
    "\n",
    "# we use all the data in one batch\n",
    "inputs_cuda = torch.tensor(X_train).float().cuda()\n",
    "labels_cuda = torch.tensor(y_train).float().cuda()\n",
    "\n",
    "for epoch in range(num_epochs):\n",
    "    rnn.train()\n",
    "    output, _ = rnn(inputs_cuda, hidden_state) \n",
    "    # print(output.size())\n",
    "\n",
    "    loss = criterion(output[:,0,:].view(-1), labels_cuda)\n",
    "    optimiser.zero_grad()\n",
    "    loss.backward()                     # back propagation\n",
    "    optimiser.step()                    # update the parameters\n",
    "    \n",
    "    if epoch % 20 == 0:\n",
    "        rnn.eval()\n",
    "        test_output, _ = rnn(X_test_cuda, hidden_state)\n",
    "        test_loss = criterion(test_output.view(-1), y_test_cuda)\n",
    "        print('epoch {}, loss {}, eval loss {}'.format(epoch, loss.item(), test_loss.item()))\n",
    "    else:\n",
    "        print('epoch {}, loss {}'.format(epoch, loss.item()))\n",
    "    history.append(loss.item())"
   ]
  },
  {
   "cell_type": "markdown",
   "metadata": {
    "id": "PY0wF6e46-JE"
   },
   "source": [
    "## Step 5: Checking model performance\n",
    "\n",
    "With our model fit we can now make predictions on both our training and testing sets."
   ]
  },
  {
   "cell_type": "code",
   "execution_count": 15,
   "metadata": {
    "colab": {
     "base_uri": "https://localhost:8080/",
     "height": 0
    },
    "executionInfo": {
     "elapsed": 39696,
     "status": "ok",
     "timestamp": 1616124339657,
     "user": {
      "displayName": "jingxian liu",
      "photoUrl": "",
      "userId": "15032525398197836374"
     },
     "user_tz": 300
    },
    "id": "6dygBlig6_XD",
    "outputId": "781be376-074b-489d-ebbe-0bb7bbdddab6"
   },
   "outputs": [
    {
     "data": {
      "text/plain": [
       "[<matplotlib.lines.Line2D at 0x7f29a54b2a50>]"
      ]
     },
     "execution_count": 15,
     "metadata": {
      "tags": []
     },
     "output_type": "execute_result"
    },
    {
     "data": {
      "image/png": "[encoded data removed]",
      "text/plain": [
       "<Figure size 432x288 with 1 Axes>"
      ]
     },
     "metadata": {
      "needs_background": "light",
      "tags": []
     },
     "output_type": "display_data"
    }
   ],
   "source": [
    "plt.plot(history)\n",
    "# dplt.plot(history.history['val_loss'])"
   ]
  },
  {
   "cell_type": "code",
   "execution_count": 16,
   "metadata": {
    "colab": {
     "base_uri": "https://localhost:8080/"
    },
    "executionInfo": {
     "elapsed": 39692,
     "status": "ok",
     "timestamp": 1616124339658,
     "user": {
      "displayName": "jingxian liu",
      "photoUrl": "",
      "userId": "15032525398197836374"
     },
     "user_tz": 300
    },
    "id": "ScaBHhTv7Jih",
    "outputId": "d8124307-7dc2-41e4-8613-8be12bb86f37"
   },
   "outputs": [
    {
     "data": {
      "text/plain": [
       "array([[0.75733001, 0.74433354, 0.74433354, 0.73778332, 0.74246205,\n",
       "        0.74069453, 0.74474943]])"
      ]
     },
     "execution_count": 16,
     "metadata": {
      "tags": []
     },
     "output_type": "execute_result"
    }
   ],
   "source": [
    "X_test[0]"
   ]
  },
  {
   "cell_type": "code",
   "execution_count": 17,
   "metadata": {
    "executionInfo": {
     "elapsed": 39690,
     "status": "ok",
     "timestamp": 1616124339658,
     "user": {
      "displayName": "jingxian liu",
      "photoUrl": "",
      "userId": "15032525398197836374"
     },
     "user_tz": 300
    },
    "id": "hyICDKXa7Vbe"
   },
   "outputs": [],
   "source": [
    "# X_train_X_test = np.concatenate((X_train, X_test),axis=0)\n",
    "# hidden_state = None\n",
    "rnn.eval()\n",
    "# test_inputs = torch.tensor(X_test).float().cuda()\n",
    "test_predict, _ = rnn(X_test_cuda, hidden_state)\n",
    "test_predict_cpu = test_predict.cpu().detach().numpy()"
   ]
  },
  {
   "cell_type": "code",
   "execution_count": 18,
   "metadata": {
    "colab": {
     "base_uri": "https://localhost:8080/"
    },
    "executionInfo": {
     "elapsed": 39824,
     "status": "ok",
     "timestamp": 1616124339796,
     "user": {
      "displayName": "jingxian liu",
      "photoUrl": "",
      "userId": "15032525398197836374"
     },
     "user_tz": 300
    },
    "id": "FwD_e6VO-cIa",
    "outputId": "ef5484f3-852c-418e-9a31-d25052fff0d3"
   },
   "outputs": [
    {
     "data": {
      "text/plain": [
       "(251, 1, 1)"
      ]
     },
     "execution_count": 18,
     "metadata": {
      "tags": []
     },
     "output_type": "execute_result"
    }
   ],
   "source": [
    "test_predict_cpu.shape"
   ]
  },
  {
   "cell_type": "code",
   "execution_count": 19,
   "metadata": {
    "colab": {
     "base_uri": "https://localhost:8080/",
     "height": 0
    },
    "executionInfo": {
     "elapsed": 39982,
     "status": "ok",
     "timestamp": 1616124339959,
     "user": {
      "displayName": "jingxian liu",
      "photoUrl": "",
      "userId": "15032525398197836374"
     },
     "user_tz": 300
    },
    "id": "c-__h1sU7kW6",
    "outputId": "90ce29c4-0064-487d-bc2f-999bcf1e9dee"
   },
   "outputs": [
    {
     "data": {
      "text/plain": [
       "[<matplotlib.lines.Line2D at 0x7f29ae634b10>]"
      ]
     },
     "execution_count": 19,
     "metadata": {
      "tags": []
     },
     "output_type": "execute_result"
    },
    {
     "data": {
      "image/png": "[encoded data removed]",
      "text/plain": [
       "<Figure size 432x288 with 1 Axes>"
      ]
     },
     "metadata": {
      "needs_background": "light",
      "tags": []
     },
     "output_type": "display_data"
    }
   ],
   "source": [
    "plt.plot(sc.inverse_transform(y_test.reshape(-1,1)))\n",
    "plt.plot(sc.inverse_transform(test_predict_cpu.reshape(-1,1)))"
   ]
  },
  {
   "cell_type": "code",
   "execution_count": 20,
   "metadata": {
    "colab": {
     "base_uri": "https://localhost:8080/",
     "height": 281
    },
    "executionInfo": {
     "elapsed": 40237,
     "status": "ok",
     "timestamp": 1616124340220,
     "user": {
      "displayName": "jingxian liu",
      "photoUrl": "",
      "userId": "15032525398197836374"
     },
     "user_tz": 300
    },
    "id": "LnMGQ5Sa8vMs",
    "outputId": "1ac23954-5c0b-4690-a2fd-7ad28e2b24f7"
   },
   "outputs": [
    {
     "data": {
      "image/png": "[encoded data removed]",
      "text/plain": [
       "<Figure size 432x288 with 1 Axes>"
      ]
     },
     "metadata": {
      "needs_background": "light",
      "tags": []
     },
     "output_type": "display_data"
    }
   ],
   "source": [
    "# plot original data\n",
    "plt.plot(sc.inverse_transform(y.reshape(-1,1)), color='k')\n",
    "\n",
    "# train_inputs = torch.tensor(X_train).float().cuda()\n",
    "train_pred, hidden_state = rnn(inputs_cuda, None)\n",
    "train_pred_cpu = train_pred.cpu().detach().numpy()\n",
    "\n",
    "# use hidden state from previous training data\n",
    "test_predict, _ = rnn(X_test_cuda, hidden_state)\n",
    "test_predict_cpu = test_predict.cpu().detach().numpy()\n",
    "\n",
    "# plt.plot(scl.inverse_transform(y_test.reshape(-1,1)))\n",
    "split_pt = int(X.shape[0] * 0.80) + 7 # window_size\n",
    "plt.plot(np.arange(7, split_pt, 1), sc.inverse_transform(train_pred_cpu.reshape(-1,1)), color='b')\n",
    "plt.plot(np.arange(split_pt, split_pt + len(test_predict_cpu), 1), sc.inverse_transform(test_predict_cpu.reshape(-1,1)), color='r')\n",
    "\n",
    "# pretty up graph\n",
    "plt.xlabel('day')\n",
    "plt.ylabel('price of MMM stock')\n",
    "plt.legend(['original series','training fit','testing fit'], loc='center left', bbox_to_anchor=(1, 0.5))\n",
    "plt.show()\n"
   ]
  },
  {
   "cell_type": "code",
   "execution_count": 20,
   "metadata": {
    "executionInfo": {
     "elapsed": 40236,
     "status": "ok",
     "timestamp": 1616124340222,
     "user": {
      "displayName": "jingxian liu",
      "photoUrl": "",
      "userId": "15032525398197836374"
     },
     "user_tz": 300
    },
    "id": "u4J-TrjE2bTy"
   },
   "outputs": [],
   "source": []
  }
 ],
 "metadata": {
  "accelerator": "GPU",
  "colab": {
   "collapsed_sections": [],
   "name": "“stock_prediction_lstm_proj2.ipynb”的副本",
   "provenance": [
    {
     "file_id": "1oXxta54cfRR0c03zKoUEuoyrfMe1exOH",
     "timestamp": 1594634469757
    },
    {
     "file_id": "1IX0c2rE9vgZahSW6MkmNyEyZ1gzMkQtv",
     "timestamp": 1580158684920
    },
    {
     "file_id": "https://github.com/thundercomb/pytorch-stock-predictor-rnn/blob/master/pytorch-stock-predictor-lstm.ipynb",
     "timestamp": 1580142815329
    }
   ],
   "toc_visible": true
  },
  "kernelspec": {
   "display_name": "Python 3",
   "language": "python",
   "name": "python3"
  },
  "language_info": {
   "codemirror_mode": {
    "name": "ipython",
    "version": 3
   },
   "file_extension": ".py",
   "mimetype": "text/x-python",
   "name": "python",
   "nbconvert_exporter": "python",
   "pygments_lexer": "ipython3",
   "version": "3.8.3"
  }
 },
 "nbformat": 4,
 "nbformat_minor": 4
}
